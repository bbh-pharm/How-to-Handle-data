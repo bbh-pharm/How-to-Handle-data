{
  "nbformat": 4,
  "nbformat_minor": 0,
  "metadata": {
    "colab": {
      "name": "Latitude and Longitude to Distance.ipynb",
      "provenance": []
    },
    "kernelspec": {
      "name": "python3",
      "display_name": "Python 3"
    },
    "language_info": {
      "name": "python"
    }
  },
  "cells": [
    {
      "cell_type": "markdown",
      "metadata": {
        "id": "HLGP-aLXm3Mz"
      },
      "source": [
        "## Latitude and Longitude to Distance\n",
        "- [haversine](https://github.com/mapado/haversine): Calculate the distance (in various units) between two points on Earth using their latitude and longitude."
      ]
    },
    {
      "cell_type": "markdown",
      "metadata": {
        "id": "JKw5gEHcmohE"
      },
      "source": [
        "Sometimes it is necessary to calculate the actual distance between the latitude from the latitude data.  \n",
        "The haversine library makes it easy to calculate the distance between latitude and longitude."
      ]
    },
    {
      "cell_type": "markdown",
      "metadata": {
        "id": "3jpWye2ApYX4"
      },
      "source": [
        "![거리측정.png](https://drive.google.com/uc?export=view&id=17ByanbzLRrvjGS3LhnOlgm1NZsaZN42t)"
      ]
    },
    {
      "cell_type": "markdown",
      "metadata": {
        "id": "nt-pCjqgqNF6"
      },
      "source": [
        "### Installation"
      ]
    },
    {
      "cell_type": "code",
      "metadata": {
        "colab": {
          "base_uri": "https://localhost:8080/"
        },
        "id": "WCsubLIzpx4u",
        "outputId": "40f3e650-88e2-4348-c44b-41c78067f35d"
      },
      "source": [
        "!pip install haversine"
      ],
      "execution_count": 2,
      "outputs": [
        {
          "output_type": "stream",
          "name": "stdout",
          "text": [
            "Collecting haversine\n",
            "  Downloading haversine-2.5.1-py2.py3-none-any.whl (6.1 kB)\n",
            "Installing collected packages: haversine\n",
            "Successfully installed haversine-2.5.1\n"
          ]
        }
      ]
    },
    {
      "cell_type": "markdown",
      "metadata": {
        "id": "i1spAXBZqR6P"
      },
      "source": [
        "### Usage"
      ]
    },
    {
      "cell_type": "code",
      "metadata": {
        "colab": {
          "base_uri": "https://localhost:8080/"
        },
        "id": "p_BU0KemmQng",
        "outputId": "a574283b-d0ce-48cb-9622-f093a8edf293"
      },
      "source": [
        "from haversine import haversine\n",
        "\n",
        "# 위경도 입력\n",
        "pharm1 = (37.498656, 127.028023)     # lat, long\n",
        "pharm2 = (37.534135, 127.145055)\n",
        "\n",
        "# 거리 계산\n",
        "print(haversine(pharm1, pharm2))\n",
        "# 11.050168584268354"
      ],
      "execution_count": 3,
      "outputs": [
        {
          "output_type": "stream",
          "name": "stdout",
          "text": [
            "11.050168584268354\n"
          ]
        }
      ]
    },
    {
      "cell_type": "code",
      "metadata": {
        "colab": {
          "base_uri": "https://localhost:8080/"
        },
        "id": "78k1pLcuqati",
        "outputId": "225c1170-80c6-4b2b-ead5-3d6cacb0a912"
      },
      "source": [
        "import haversine\n",
        "\n",
        "print(tuple(haversine.Unit))"
      ],
      "execution_count": 4,
      "outputs": [
        {
          "output_type": "stream",
          "name": "stdout",
          "text": [
            "(<Unit.KILOMETERS: 'km'>, <Unit.METERS: 'm'>, <Unit.MILES: 'mi'>, <Unit.NAUTICAL_MILES: 'nmi'>, <Unit.FEET: 'ft'>, <Unit.INCHES: 'in'>, <Unit.RADIANS: 'rad'>, <Unit.DEGREES: 'deg'>)\n"
          ]
        }
      ]
    },
    {
      "cell_type": "markdown",
      "metadata": {
        "id": "m_yzL656qgzy"
      },
      "source": [
        "Units using meters allocate unit = 'm' as follows."
      ]
    },
    {
      "cell_type": "code",
      "metadata": {
        "colab": {
          "base_uri": "https://localhost:8080/"
        },
        "id": "Wx8tfxiIqgJu",
        "outputId": "d591b23d-0377-45ba-d057-4f8fce785cff"
      },
      "source": [
        "from haversine import haversine\n",
        "\n",
        "# 단위: meter (default: km)\n",
        "print(haversine(pharm1, pharm2, unit='m'))"
      ],
      "execution_count": 5,
      "outputs": [
        {
          "output_type": "stream",
          "name": "stdout",
          "text": [
            "11050.168584268355\n"
          ]
        }
      ]
    }
  ]
}