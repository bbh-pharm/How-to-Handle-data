{
  "nbformat": 4,
  "nbformat_minor": 0,
  "metadata": {
    "colab": {
      "name": "Local Outlier Factor (LOF)",
      "provenance": [],
      "collapsed_sections": []
    },
    "kernelspec": {
      "name": "python3",
      "display_name": "Python 3"
    },
    "language_info": {
      "name": "python"
    }
  },
  "cells": [
    {
      "cell_type": "markdown",
      "metadata": {
        "id": "GyR1PFA0tFlc"
      },
      "source": [
        "# Local Outlier Factor (LOF)"
      ]
    },
    {
      "cell_type": "markdown",
      "metadata": {
        "id": "goOXoLCUtWj5"
      },
      "source": [
        "## Sckit-learn: sklearn.neighbors.[LocalOutlierFactor](https://scikit-learn.org/stable/modules/generated/sklearn.neighbors.LocalOutlierFactor.html) \n",
        "class **sklearn.neighbors.LocalOutlierFactor**(n_neighbors=20, *, algorithm='auto', leaf_size=30, metric='minkowski', p=2, metric_params=None, contamination='auto', novelty=False, n_jobs=None)"
      ]
    },
    {
      "cell_type": "markdown",
      "metadata": {
        "id": "i0Tq2C4Qtlhp"
      },
      "source": [
        "- A technique that attempts to harness the idea of nearest neighbors for outlier detection\n",
        "- It measures the local deviation of density of a given sample with respect to its neighbors: <u>sample의 local density와 주변 sample의 local density를 비교</u>하여 상대적으로 매우 낮은 sample을 골라낼 수 있음 (outlier)\n",
        "- Each example is assigned a scoring of how isolated or how likely it is to be outliers based on the size of its local neighborhood  \n",
        "  -> <u>score가 큰</u> example들은 <u>outlier일 가능성이 높음</u>"
      ]
    },
    {
      "cell_type": "code",
      "metadata": {
        "id": "LLFvDfVbtEC_"
      },
      "source": [
        "from sklearn.covariance import EllipticEnvelope\n",
        "\n",
        "# split into train and test sets\n",
        "X_train, X_test, y_train, y_test = train_test_split(X, y)\n",
        "\n",
        "# identify outliers in the training dataset\n",
        "ee = EllipticEnvelope(contamination=0.01)\n",
        "yhat = ee.fit_predict(X_train)\n",
        "\n",
        "# select all rows that are not outliers\n",
        "mask = yhat != -1\n",
        "X_train, y_train = X_train[mask, :], y_train[mask]"
      ],
      "execution_count": null,
      "outputs": []
    },
    {
      "cell_type": "markdown",
      "metadata": {
        "id": "gG17qCXvtIBl"
      },
      "source": [
        "Reference\n",
        "1. https://machinelearningmastery.com/model-based-outlier-detection-and-removal-in-python/\n",
        "2. https://scikit-learn.org/stable/modules/generated/sklearn.covariance.EllipticEnvelope.html"
      ]
    }
  ]
}