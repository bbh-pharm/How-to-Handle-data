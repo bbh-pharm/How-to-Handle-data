{
  "nbformat": 4,
  "nbformat_minor": 0,
  "metadata": {
    "colab": {
      "name": "One-Class Support Vector Machine (OCSVM)",
      "provenance": [],
      "collapsed_sections": []
    },
    "kernelspec": {
      "name": "python3",
      "display_name": "Python 3"
    },
    "language_info": {
      "name": "python"
    }
  },
  "cells": [
    {
      "cell_type": "markdown",
      "metadata": {
        "id": "GyR1PFA0tFlc"
      },
      "source": [
        "# One-Class Support Vector Machine (OCSVM)"
      ]
    },
    {
      "cell_type": "markdown",
      "metadata": {
        "id": "goOXoLCUtWj5"
      },
      "source": [
        "## Sckit-learn: sklearn.svm.[OneClassSVM](https://scikit-learn.org/stable/modules/generated/sklearn.svm.OneClassSVM.html) \n",
        "class **sklearn.svm.OneClassSVM**(*, kernel='rbf', degree=3, gamma='scale', coef0=0.0, tol=0.001, nu=0.5, shrinking=True, cache_size=200, verbose=False, max_iter=- 1)"
      ]
    },
    {
      "cell_type": "markdown",
      "metadata": {
        "id": "i0Tq2C4Qtlhp"
      },
      "source": [
        "- It can be used to discover outliers in input data for both <u>regression and classification datasets</u>\n",
        "- When modeling one class, the algorithm captures the density of the majority class and classifies examples on the extremes of the density function as outliers.\n",
        "- Hyperparameter **nu**: controls <u>the sensitivity of the support vectors</u> and should be tuned to the approximate ratio of outliers in the data,"
      ]
    },
    {
      "cell_type": "code",
      "metadata": {
        "id": "LLFvDfVbtEC_"
      },
      "source": [
        "from sklearn.svm import OneClassSVM\n",
        "\n",
        "# split into train and test sets\n",
        "X_train, X_test, y_train, y_test = train_test_split(X, y)\n",
        "\n",
        "# identify outliers in the training dataset\n",
        "ee = OneClassSVM(nu=0.01)\n",
        "yhat = ee.fit_predict(X_train)\n",
        "\n",
        "# select all rows that are not outliers\n",
        "mask = yhat != -1\n",
        "X_train, y_train = X_train[mask, :], y_train[mask]"
      ],
      "execution_count": null,
      "outputs": []
    },
    {
      "cell_type": "markdown",
      "metadata": {
        "id": "gG17qCXvtIBl"
      },
      "source": [
        "Reference\n",
        "1. https://machinelearningmastery.com/model-based-outlier-detection-and-removal-in-python/\n",
        "2. https://scikit-learn.org/stable/modules/generated/sklearn.svm.OneClassSVM.html\n",
        "3. https://machinelearningmastery.com/one-class-classification-algorithms/"
      ]
    }
  ]
}