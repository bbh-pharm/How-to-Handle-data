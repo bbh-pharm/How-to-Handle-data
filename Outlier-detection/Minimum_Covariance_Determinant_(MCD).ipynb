{
  "nbformat": 4,
  "nbformat_minor": 0,
  "metadata": {
    "colab": {
      "name": "Minimum Covariance Determinant (MCD).ipynb",
      "provenance": [],
      "collapsed_sections": []
    },
    "kernelspec": {
      "name": "python3",
      "display_name": "Python 3"
    },
    "language_info": {
      "name": "python"
    }
  },
  "cells": [
    {
      "cell_type": "markdown",
      "metadata": {
        "id": "GyR1PFA0tFlc"
      },
      "source": [
        "# Minimum Covariance Determinant (MCD)"
      ]
    },
    {
      "cell_type": "markdown",
      "metadata": {
        "id": "goOXoLCUtWj5"
      },
      "source": [
        "## Sckit-learn: sklearn.covariance.[EllipticEnvelope](https://scikit-learn.org/stable/modules/generated/sklearn.covariance.EllipticEnvelope.html) \n",
        "class **sklearn.covariance.EllipticEnvelope**(*, store_precision=True, assume_centered=False, support_fraction=None, contamination=0.1, random_state=None)"
      ]
    },
    {
      "cell_type": "markdown",
      "metadata": {
        "id": "i0Tq2C4Qtlhp"
      },
      "source": [
        "- If the input variables have a Gaussian distribution, then simple statistical methods can be used to detect outliers (가우시안 분포가 필요)\n",
        "- This approach can be generalized by defining a hypersphere (ellipsoid) that covers the normal data, and data that falls outside this shape is considered an outlier"
      ]
    },
    {
      "cell_type": "code",
      "metadata": {
        "id": "LLFvDfVbtEC_"
      },
      "source": [
        "from sklearn.covariance import EllipticEnvelope\n",
        "\n",
        "# split into train and test sets\n",
        "X_train, X_test, y_train, y_test = train_test_split(X, y)\n",
        "\n",
        "# identify outliers in the training dataset\n",
        "ee = EllipticEnvelope(contamination=0.01)\n",
        "yhat = ee.fit_predict(X_train)\n",
        "\n",
        "# select all rows that are not outliers\n",
        "mask = yhat != -1\n",
        "X_train, y_train = X_train[mask, :], y_train[mask]"
      ],
      "execution_count": null,
      "outputs": []
    },
    {
      "cell_type": "markdown",
      "metadata": {
        "id": "gG17qCXvtIBl"
      },
      "source": [
        "Reference\n",
        "1. https://machinelearningmastery.com/model-based-outlier-detection-and-removal-in-python/\n",
        "2. https://scikit-learn.org/stable/modules/generated/sklearn.covariance.EllipticEnvelope.html"
      ]
    }
  ]
}