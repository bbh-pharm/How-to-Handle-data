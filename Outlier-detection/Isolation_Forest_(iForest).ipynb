{
  "nbformat": 4,
  "nbformat_minor": 0,
  "metadata": {
    "colab": {
      "name": "Isolation Forest (iForest).ipynb",
      "provenance": [],
      "collapsed_sections": []
    },
    "kernelspec": {
      "name": "python3",
      "display_name": "Python 3"
    },
    "language_info": {
      "name": "python"
    }
  },
  "cells": [
    {
      "cell_type": "markdown",
      "metadata": {
        "id": "W3m0H3Pwqxe4"
      },
      "source": [
        "# Isolation Forest (iForest)"
      ]
    },
    {
      "cell_type": "markdown",
      "metadata": {
        "id": "_IZI7jQqrUMT"
      },
      "source": [
        "## Scikit-learn: [IsolationForest](https://scikit-learn.org/stable/modules/generated/sklearn.ensemble.IsolationForest.html)  \n",
        "class **sklearn.ensemble.IsolationForest**(*, n_estimators=100, max_samples='auto', contamination='auto', max_features=1.0, bootstrap=False, n_jobs=None, random_state=None, verbose=0, warm_start=False)"
      ]
    },
    {
      "cell_type": "markdown",
      "metadata": {
        "id": "4_Epzidcq4ji"
      },
      "source": [
        "- tree-based anomaly detection algorithm\n",
        "- isolate anomalies that are both few in number and different in the feature space\n",
        "- sklearn: Return the anomaly score of each sample using the IsolationForest algorithm\n",
        "\n"
      ]
    },
    {
      "cell_type": "code",
      "metadata": {
        "id": "WQrRwDoAqq2i"
      },
      "source": [
        "from sklearn.ensemble import IsolationForest\n",
        "\n",
        "# split into train and test sets\n",
        "X_train, X_test, y_train, y_test = train_test_split(X, y)\n",
        "\n",
        "# identify outliers in the training dataset\n",
        "iso = IsolationForest(contamination=0.1)\n",
        "yhat = iso.fit_predict(X_train)\n",
        "\n",
        "# select all rows that are not outliers\n",
        "mask = yhat != -1\n",
        "X_train, y_train = X_train[mask, :], y_train[mask]"
      ],
      "execution_count": null,
      "outputs": []
    },
    {
      "cell_type": "markdown",
      "metadata": {
        "id": "dS29hpwXrFtJ"
      },
      "source": [
        "Reference\n",
        "1. https://machinelearningmastery.com/model-based-outlier-detection-and-removal-in-python/\n",
        "2. https://scikit-learn.org/stable/modules/generated/sklearn.ensemble.IsolationForest.html"
      ]
    }
  ]
}