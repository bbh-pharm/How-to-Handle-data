{
  "nbformat": 4,
  "nbformat_minor": 0,
  "metadata": {
    "colab": {
      "name": "Inverse of Number of Samples (INS).ipynb",
      "provenance": []
    },
    "kernelspec": {
      "name": "python3",
      "display_name": "Python 3"
    },
    "language_info": {
      "name": "python"
    }
  },
  "cells": [
    {
      "cell_type": "markdown",
      "metadata": {
        "id": "tuba3FrqRnV6"
      },
      "source": [
        "## Inverse of Number of Samples (INS)"
      ]
    },
    {
      "cell_type": "markdown",
      "metadata": {
        "id": "7GktZLDJRsa7"
      },
      "source": [
        "### $Wn,c$ = $\\frac{1}{Number\\;of\\;Samples\\;in\\;Class\\;c}$"
      ]
    },
    {
      "cell_type": "code",
      "metadata": {
        "id": "JOp_EJgnRrwv"
      },
      "source": [
        "def get_weights_inverse_num_of_samples(no_of_classes, samples_per_cls, power=1):\n",
        "  weights_for_samples = 1.0 / np.array(np.power(samples_per_cls, power))\n",
        "  weights_for_samples = weights_for_samples / np.sum(weights_for_samples) * no_of_classes\n",
        "  return weights_for_samples"
      ],
      "execution_count": null,
      "outputs": []
    },
    {
      "cell_type": "markdown",
      "metadata": {
        "id": "DBnlQD3tVbjI"
      },
      "source": [
        "위 function은 sample 개수의 inverse를 weight로 하고 class 별로 normailzation한다."
      ]
    },
    {
      "cell_type": "markdown",
      "metadata": {
        "id": "U0npWO90Tf1_"
      },
      "source": [
        "Reference: https://medium.com/gumgum-tech/handling-class-imbalance-by-introducing-sample-weighting-in-the-loss-function-3bdebd8203b4"
      ]
    }
  ]
}