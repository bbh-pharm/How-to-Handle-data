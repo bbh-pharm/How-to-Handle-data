{
  "nbformat": 4,
  "nbformat_minor": 0,
  "metadata": {
    "colab": {
      "name": "Effective Number of Samples (ENS)",
      "provenance": [],
      "collapsed_sections": []
    },
    "kernelspec": {
      "name": "python3",
      "display_name": "Python 3"
    },
    "language_info": {
      "name": "python"
    }
  },
  "cells": [
    {
      "cell_type": "markdown",
      "metadata": {
        "id": "tuba3FrqRnV6"
      },
      "source": [
        "## Effective Number of Samples (ENS)"
      ]
    },
    {
      "cell_type": "markdown",
      "metadata": {
        "id": "Qhjl_7KHbCx_"
      },
      "source": [
        "Paper: [Class-Balanced Loss Based on Effective Number of Samples](http://openaccess.thecvf.com/content_CVPR_2019/papers/Cui_Class-Balanced_Loss_Based_on_Effective_Number_of_Samples_CVPR_2019_paper.pdf), CVPR19 by Google"
      ]
    },
    {
      "cell_type": "markdown",
      "metadata": {
        "id": "7GktZLDJRsa7"
      },
      "source": [
        "### $Wn,c$ = $\\frac{1}{E_{n_{c}}}$\n",
        "### $E_{n_{c}}$ = $1 - \\beta^{n^{c}} \\over 1 - \\beta$   \n",
        "$where\\;n_{c} \\;is\\;the\\;Number\\;of\\;Samples\\;in\\;Class\\;c$  \n",
        "$and\\;E_{n_{c}}\\;represents\\;the\\;Effective\\;Number\\;of\\;Samples$"
      ]
    },
    {
      "cell_type": "markdown",
      "metadata": {
        "id": "eiwYDDE6f_P6"
      },
      "source": [
        "n은 sample의 수, $\\beta$는 [0, 1)의 hyperparameter  \n",
        "*저자는 $\\beta$의 0.9, 0.99, 0.999, 0.9999 실험결과를 보여줌"
      ]
    },
    {
      "cell_type": "code",
      "metadata": {
        "id": "JOp_EJgnRrwv"
      },
      "source": [
        "def get_weights_inverse_num_of_samples(no_of_classes, beta, samples_per_cls):\n",
        "  effective_num = 1.0 - np.power(beta, samples_per_cls)\n",
        "  weights_for_samples = (1.0 - beta) / np.array(effective_num)\n",
        "  weights_for_samples = weights_for_samples / np.sum(weights_for_samples) * no_of_classes\n",
        "  return weights_for_samples"
      ],
      "execution_count": null,
      "outputs": []
    },
    {
      "cell_type": "markdown",
      "metadata": {
        "id": "DBnlQD3tVbjI"
      },
      "source": [
        "- Data sample의 effective number: N개의 data가 있을 때, 중복 및 유사한 sample을 제외한 영향력 있는 sample들의 개수  \n",
        "- sample size가 커질 수록 값이 커짐 -> majority class일 수록 큰 값을 갖고 minority class일 수록 작은 값을 가짐"
      ]
    },
    {
      "cell_type": "markdown",
      "metadata": {
        "id": "VxjCaeNlcHZ0"
      },
      "source": [
        "![](https://github.com/bbh-pharm/How-to-Handle-data/blob/main/Class-Imbalance/paper_capture_ENS.png?raw=true)"
      ]
    },
    {
      "cell_type": "markdown",
      "metadata": {
        "id": "U0npWO90Tf1_"
      },
      "source": [
        "Reference:  \n",
        "1. https://medium.com/gumgum-tech/handling-class-imbalance-by-introducing-sample-weighting-in-the-loss-function-3bdebd8203b4\n",
        "2. https://yjchoi-95.gitbook.io/paper-review/paper-review/cvpr-2019-class-balanced-loss-based-on-effective-number-of-samples"
      ]
    }
  ]
}