{
  "nbformat": 4,
  "nbformat_minor": 0,
  "metadata": {
    "colab": {
      "name": "Inverse of Square Root of Number of Samples (ISNS)",
      "provenance": [],
      "collapsed_sections": []
    },
    "kernelspec": {
      "name": "python3",
      "display_name": "Python 3"
    },
    "language_info": {
      "name": "python"
    }
  },
  "cells": [
    {
      "cell_type": "markdown",
      "metadata": {
        "id": "tuba3FrqRnV6"
      },
      "source": [
        "## Inverse of Square Root of Number of Samples (ISNS)"
      ]
    },
    {
      "cell_type": "markdown",
      "metadata": {
        "id": "8j23cUq6YDEL"
      },
      "source": [
        "### $Wn,c$ = $1\\over \\sqrt{Number\\;of\\;Samples\\;in\\;Classc}$"
      ]
    },
    {
      "cell_type": "code",
      "metadata": {
        "id": "JOp_EJgnRrwv"
      },
      "source": [
        "def get_weights_inverse_num_of_samples(no_of_classes, samples_per_cls, power=0.5):\n",
        "  weights_for_samples = 1.0 / np.array(np.power(samples_per_cls, power))\n",
        "  weights_for_samples = weights_for_samples / np.sum(weights_for_samples) * no_of_classes\n",
        "  return weights_for_samples"
      ],
      "execution_count": null,
      "outputs": []
    },
    {
      "cell_type": "markdown",
      "metadata": {
        "id": "DBnlQD3tVbjI"
      },
      "source": [
        "위 function은 sample 개수의 inverse의 square root를 weight로 하고 class 별로 normailzation한다.  \n",
        "(This implementation is similar to INS)"
      ]
    },
    {
      "cell_type": "markdown",
      "metadata": {
        "id": "U0npWO90Tf1_"
      },
      "source": [
        "Reference: https://medium.com/gumgum-tech/handling-class-imbalance-by-introducing-sample-weighting-in-the-loss-function-3bdebd8203b4"
      ]
    }
  ]
}